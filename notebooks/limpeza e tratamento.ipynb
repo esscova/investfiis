{
 "cells": [
  {
   "cell_type": "markdown",
   "id": "1f87b8be",
   "metadata": {
    "tags": []
   },
   "source": [
    "## Carregando dados"
   ]
  },
  {
   "cell_type": "code",
   "execution_count": 1,
   "id": "1169c1d2",
   "metadata": {},
   "outputs": [],
   "source": [
    "import pandas as pd\n",
    "df = pd.read_csv('../dados/dados.csv')"
   ]
  },
  {
   "cell_type": "markdown",
   "id": "da599a38",
   "metadata": {},
   "source": [
    "## Primeiras linhas"
   ]
  },
  {
   "cell_type": "code",
   "execution_count": 2,
   "id": "e3c098e9",
   "metadata": {},
   "outputs": [
    {
     "data": {
      "text/html": [
       "<div>\n",
       "<style scoped>\n",
       "    .dataframe tbody tr th:only-of-type {\n",
       "        vertical-align: middle;\n",
       "    }\n",
       "\n",
       "    .dataframe tbody tr th {\n",
       "        vertical-align: top;\n",
       "    }\n",
       "\n",
       "    .dataframe thead th {\n",
       "        text-align: right;\n",
       "    }\n",
       "</style>\n",
       "<table border=\"1\" class=\"dataframe\">\n",
       "  <thead>\n",
       "    <tr style=\"text-align: right;\">\n",
       "      <th></th>\n",
       "      <th>Ticker</th>\n",
       "      <th>DY</th>\n",
       "      <th>Nome</th>\n",
       "      <th>Categoria</th>\n",
       "    </tr>\n",
       "  </thead>\n",
       "  <tbody>\n",
       "    <tr>\n",
       "      <th>0</th>\n",
       "      <td>AAGR11</td>\n",
       "      <td>-</td>\n",
       "      <td>ASSET BANK AGRONEGÓCIOS FIAGRO IMOBILIARIO</td>\n",
       "      <td>Fiagro:</td>\n",
       "    </tr>\n",
       "    <tr>\n",
       "      <th>1</th>\n",
       "      <td>AAZQ11</td>\n",
       "      <td>16,45</td>\n",
       "      <td>NaN</td>\n",
       "      <td>Fiagro: Fiagro</td>\n",
       "    </tr>\n",
       "    <tr>\n",
       "      <th>2</th>\n",
       "      <td>ABCP11</td>\n",
       "      <td>8,62</td>\n",
       "      <td>Grand Plaza Shopping</td>\n",
       "      <td>Tijolo: Shoppings</td>\n",
       "    </tr>\n",
       "    <tr>\n",
       "      <th>3</th>\n",
       "      <td>AFCR11</td>\n",
       "      <td>-</td>\n",
       "      <td>NaN</td>\n",
       "      <td>Outros: Indefinido</td>\n",
       "    </tr>\n",
       "    <tr>\n",
       "      <th>4</th>\n",
       "      <td>AFHI11</td>\n",
       "      <td>12,89</td>\n",
       "      <td>AF INVEST CRI</td>\n",
       "      <td>Papel: Papéis</td>\n",
       "    </tr>\n",
       "  </tbody>\n",
       "</table>\n",
       "</div>"
      ],
      "text/plain": [
       "   Ticker     DY                                        Nome  \\\n",
       "0  AAGR11      -  ASSET BANK AGRONEGÓCIOS FIAGRO IMOBILIARIO   \n",
       "1  AAZQ11  16,45                                         NaN   \n",
       "2  ABCP11   8,62                        Grand Plaza Shopping   \n",
       "3  AFCR11      -                                         NaN   \n",
       "4  AFHI11  12,89                               AF INVEST CRI   \n",
       "\n",
       "            Categoria  \n",
       "0            Fiagro:   \n",
       "1      Fiagro: Fiagro  \n",
       "2   Tijolo: Shoppings  \n",
       "3  Outros: Indefinido  \n",
       "4       Papel: Papéis  "
      ]
     },
     "execution_count": 2,
     "metadata": {},
     "output_type": "execute_result"
    }
   ],
   "source": [
    "df.head()"
   ]
  },
  {
   "cell_type": "markdown",
   "id": "f1c57394",
   "metadata": {},
   "source": [
    "---\n",
    "## Campo - DY\n",
    "**Transformar valores para float**\n",
    "***"
   ]
  },
  {
   "cell_type": "code",
   "execution_count": 3,
   "id": "10be3eea",
   "metadata": {},
   "outputs": [
    {
     "data": {
      "text/plain": [
       "DY\n",
       "-        188\n",
       "0,05       1\n",
       "0,09       1\n",
       "0,12       1\n",
       "0,17       1\n",
       "        ... \n",
       "9,80       1\n",
       "9,82       1\n",
       "9,86       1\n",
       "9,88       1\n",
       "96,95      1\n",
       "Name: Ticker, Length: 349, dtype: int64"
      ]
     },
     "execution_count": 3,
     "metadata": {},
     "output_type": "execute_result"
    }
   ],
   "source": [
    "df.groupby('DY')['Ticker'].count()"
   ]
  },
  {
   "cell_type": "markdown",
   "id": "f3b34c94",
   "metadata": {},
   "source": [
    "*Substituindo '-' por '0'*"
   ]
  },
  {
   "cell_type": "code",
   "execution_count": 4,
   "id": "625ddf90",
   "metadata": {},
   "outputs": [],
   "source": [
    "df['DY'] = df['DY'].str.replace('-','0')"
   ]
  },
  {
   "cell_type": "markdown",
   "id": "b9f7b09c",
   "metadata": {},
   "source": [
    "*Substituindo '.' por '' em possível formatação de milhar*"
   ]
  },
  {
   "cell_type": "code",
   "execution_count": 5,
   "id": "4dff9538",
   "metadata": {},
   "outputs": [],
   "source": [
    "df['DY'] = df['DY'].str.replace('.','')"
   ]
  },
  {
   "cell_type": "markdown",
   "id": "4504395a",
   "metadata": {},
   "source": [
    "*Substituindo ',' por '.'*"
   ]
  },
  {
   "cell_type": "code",
   "execution_count": 6,
   "id": "a255a64b",
   "metadata": {},
   "outputs": [],
   "source": [
    "df['DY'] = df['DY'].str.replace(',','.')"
   ]
  },
  {
   "cell_type": "markdown",
   "id": "8690cc4f",
   "metadata": {},
   "source": [
    "*Convertendo para float*"
   ]
  },
  {
   "cell_type": "code",
   "execution_count": 7,
   "id": "623c8959",
   "metadata": {},
   "outputs": [],
   "source": [
    "df['DY'] = df['DY'].astype(float)"
   ]
  },
  {
   "cell_type": "markdown",
   "id": "c256f20e",
   "metadata": {},
   "source": [
    "*Primeiras linhas*"
   ]
  },
  {
   "cell_type": "code",
   "execution_count": 8,
   "id": "0bc8d582",
   "metadata": {},
   "outputs": [
    {
     "data": {
      "text/plain": [
       "0     0.00\n",
       "1    16.45\n",
       "2     8.62\n",
       "3     0.00\n",
       "4    12.89\n",
       "Name: DY, dtype: float64"
      ]
     },
     "execution_count": 8,
     "metadata": {},
     "output_type": "execute_result"
    }
   ],
   "source": [
    "df.DY.head()"
   ]
  },
  {
   "cell_type": "markdown",
   "id": "7f5f268f",
   "metadata": {},
   "source": [
    "*Resumo estatístico*"
   ]
  },
  {
   "cell_type": "code",
   "execution_count": 9,
   "id": "0970c2d2",
   "metadata": {},
   "outputs": [
    {
     "data": {
      "text/plain": [
       "count     581.000000\n",
       "mean       12.117022\n",
       "std        69.559046\n",
       "min         0.000000\n",
       "25%         0.000000\n",
       "50%         7.360000\n",
       "75%        11.740000\n",
       "max      1233.330000\n",
       "Name: DY, dtype: float64"
      ]
     },
     "execution_count": 9,
     "metadata": {},
     "output_type": "execute_result"
    }
   ],
   "source": [
    "df.DY.describe()"
   ]
  },
  {
   "cell_type": "markdown",
   "id": "56a9b59b",
   "metadata": {},
   "source": [
    "***\n",
    "## Campo - Nome\n",
    "**Tratar valores ausentes**\n",
    "***"
   ]
  },
  {
   "cell_type": "markdown",
   "id": "e6ebdc2e",
   "metadata": {},
   "source": [
    "*Dados faltantes*"
   ]
  },
  {
   "cell_type": "code",
   "execution_count": 10,
   "id": "f3d60d7b",
   "metadata": {},
   "outputs": [
    {
     "data": {
      "text/plain": [
       "137"
      ]
     },
     "execution_count": 10,
     "metadata": {},
     "output_type": "execute_result"
    }
   ],
   "source": [
    "df['Nome'].isna().sum()"
   ]
  },
  {
   "cell_type": "markdown",
   "id": "00195a09",
   "metadata": {},
   "source": [
    "*Substituindo dados faltantes*"
   ]
  },
  {
   "cell_type": "code",
   "execution_count": 11,
   "id": "3996625b",
   "metadata": {},
   "outputs": [],
   "source": [
    "df['Nome'].fillna('-', inplace=True)"
   ]
  },
  {
   "cell_type": "markdown",
   "id": "eccfe5a2",
   "metadata": {},
   "source": [
    "*Conferindo alterações*"
   ]
  },
  {
   "cell_type": "code",
   "execution_count": 12,
   "id": "90e7c598",
   "metadata": {},
   "outputs": [
    {
     "data": {
      "text/plain": [
       "0"
      ]
     },
     "execution_count": 12,
     "metadata": {},
     "output_type": "execute_result"
    }
   ],
   "source": [
    "df['Nome'].isna().sum()"
   ]
  },
  {
   "cell_type": "markdown",
   "id": "ddd29a92",
   "metadata": {},
   "source": [
    "*Primeiras linhas*"
   ]
  },
  {
   "cell_type": "code",
   "execution_count": 13,
   "id": "b2c0d4ef",
   "metadata": {
    "scrolled": true
   },
   "outputs": [
    {
     "data": {
      "text/plain": [
       "0          ASSET BANK AGRONEGÓCIOS FIAGRO IMOBILIARIO\n",
       "1                                                   -\n",
       "2                                Grand Plaza Shopping\n",
       "3                                                   -\n",
       "4                                       AF INVEST CRI\n",
       "5                                                   -\n",
       "6                                                   -\n",
       "7    AUTONOMY EDIFÍCIOS CORPORATIVOS FUND. INV. IMOB.\n",
       "8                                                   -\n",
       "9                                     Torre Almirante\n",
       "Name: Nome, dtype: object"
      ]
     },
     "execution_count": 13,
     "metadata": {},
     "output_type": "execute_result"
    }
   ],
   "source": [
    "df['Nome'].head(10)"
   ]
  },
  {
   "cell_type": "markdown",
   "id": "8ec747a7",
   "metadata": {
    "tags": []
   },
   "source": [
    "---\n",
    "## Campo - Categoria\n",
    "**Padronizar valores**\n",
    "***"
   ]
  },
  {
   "cell_type": "markdown",
   "id": "c7b20d28",
   "metadata": {},
   "source": [
    "*Campos vazios*"
   ]
  },
  {
   "cell_type": "code",
   "execution_count": 14,
   "id": "5c8ee9cb",
   "metadata": {},
   "outputs": [
    {
     "data": {
      "text/plain": [
       "0"
      ]
     },
     "execution_count": 14,
     "metadata": {},
     "output_type": "execute_result"
    }
   ],
   "source": [
    "df.Categoria.isna().sum()"
   ]
  },
  {
   "cell_type": "markdown",
   "id": "0cdcae9a",
   "metadata": {},
   "source": [
    "*Categorias*"
   ]
  },
  {
   "cell_type": "code",
   "execution_count": 15,
   "id": "c6d7946f",
   "metadata": {},
   "outputs": [
    {
     "data": {
      "text/plain": [
       "array(['Fiagro: ', 'Fiagro: Fiagro', 'Tijolo: Shoppings',\n",
       "       'Outros: Indefinido', 'Papel: Papéis',\n",
       "       'Tijolo: Lajes Corporativas', 'Sem categoria: ',\n",
       "       'Papel: Fundo de Fundos', 'Fundo Misto: Misto',\n",
       "       'Tijolo: Imóveis Residenciais', 'Fundos Imobiliários: ',\n",
       "       'Tijolo: Imóveis Industriais e Logísticos',\n",
       "       'Fundo Misto: Indefinido', 'Tijolo: Imóveis Comerciais - Outros',\n",
       "       'Tijolo: Agências de Bancos', 'Tijolo: Hotéis',\n",
       "       'Fundo Misto: Fundo de Desenvolvimento', 'Papel: ',\n",
       "       'Tijolo: Varejo', 'Tijolo: Fundo de Desenvolvimento',\n",
       "       'Tijolo: Educacional', 'Tijolo: Hospitalar', 'Fundo Misto: ',\n",
       "       'Tijolo: ', 'Outros: Fundo de Desenvolvimento',\n",
       "       'Fundos Imobiliários: Fundos Imobiliários', 'Fundo Misto: Papéis'],\n",
       "      dtype=object)"
      ]
     },
     "execution_count": 15,
     "metadata": {},
     "output_type": "execute_result"
    }
   ],
   "source": [
    "df.Categoria.unique()"
   ]
  },
  {
   "cell_type": "markdown",
   "id": "c2a4e7b4",
   "metadata": {},
   "source": [
    "*Quantidade de categorias*"
   ]
  },
  {
   "cell_type": "code",
   "execution_count": 16,
   "id": "40aac9d4",
   "metadata": {},
   "outputs": [
    {
     "data": {
      "text/plain": [
       "27"
      ]
     },
     "execution_count": 16,
     "metadata": {},
     "output_type": "execute_result"
    }
   ],
   "source": [
    "df.Categoria.unique().size"
   ]
  },
  {
   "cell_type": "markdown",
   "id": "ee1683e5",
   "metadata": {},
   "source": [
    "*Quantidade de fundos por categoria*"
   ]
  },
  {
   "cell_type": "code",
   "execution_count": 17,
   "id": "6469f749",
   "metadata": {},
   "outputs": [
    {
     "data": {
      "text/plain": [
       "Categoria\n",
       "Fundo Misto: Indefinido                     86\n",
       "Papel: Papéis                               80\n",
       "Tijolo: Lajes Corporativas                  64\n",
       "Tijolo: Imóveis Industriais e Logísticos    45\n",
       "Fundo Misto: Fundo de Desenvolvimento       43\n",
       "Papel: Fundo de Fundos                      36\n",
       "Sem categoria:                              34\n",
       "Outros: Indefinido                          33\n",
       "Tijolo: Shoppings                           32\n",
       "Fundos Imobiliários:                        25\n",
       "Fiagro: Fiagro                              23\n",
       "Fundo Misto: Misto                          20\n",
       "Fiagro:                                     16\n",
       "Tijolo: Hospitalar                           6\n",
       "Tijolo: Varejo                               6\n",
       "Tijolo: Educacional                          5\n",
       "Tijolo: Imóveis Comerciais - Outros          5\n",
       "Tijolo: Imóveis Residenciais                 5\n",
       "Tijolo: Hotéis                               4\n",
       "Tijolo: Agências de Bancos                   4\n",
       "Tijolo: Fundo de Desenvolvimento             3\n",
       "Papel:                                       1\n",
       "Fundo Misto:                                 1\n",
       "Tijolo:                                      1\n",
       "Outros: Fundo de Desenvolvimento             1\n",
       "Fundos Imobiliários: Fundos Imobiliários     1\n",
       "Fundo Misto: Papéis                          1\n",
       "Name: count, dtype: int64"
      ]
     },
     "execution_count": 17,
     "metadata": {},
     "output_type": "execute_result"
    }
   ],
   "source": [
    "df.Categoria.value_counts()"
   ]
  },
  {
   "cell_type": "markdown",
   "id": "1e9202e6",
   "metadata": {},
   "source": [
    "*Padronizando valores*"
   ]
  },
  {
   "cell_type": "code",
   "execution_count": 18,
   "id": "83239e0f",
   "metadata": {},
   "outputs": [],
   "source": [
    "categorias = {\n",
    "    'Fiagro: ':'Fiagro',\n",
    "    'Fiagro: Fiagro':'Fiagro',\n",
    "    'Tijolo: Shoppings':'Tijolo',\n",
    "    'Outros: Indefinido':'Outros',\n",
    "    'Papel: Papéis':'Papel',\n",
    "    'Tijolo: Lajes Corporativas':'Tijolo',\n",
    "    'Sem categoria: ':'Outros',\n",
    "    'Papel: Fundo de Fundos':'Papel',\n",
    "    'Fundo Misto: Misto':'Fundo Misto',\n",
    "    'Tijolo: Imóveis Residenciais':'Tijolo',\n",
    "    'Fundos Imobiliários: ':'Outros',\n",
    "    'Tijolo: Imóveis Industriais e Logísticos':'Tijolo',\n",
    "    'Fundo Misto: Indefinido':'Fundo Misto',\n",
    "    'Tijolo: Imóveis Comerciais - Outros':'Tijolo',\n",
    "    'Tijolo: Agências de Bancos':'Tijolo',\n",
    "    'Tijolo: Hotéis':'Tijolo',\n",
    "    'Fundo Misto: Fundo de Desenvolvimento':'Fundo Misto',\n",
    "    'Papel: ':'Papel',\n",
    "    'Tijolo: Varejo':'Tijolo',\n",
    "    'Tijolo: Fundo de Desenvolvimento':'Tijolo',\n",
    "    'Tijolo: Educacional':'Tijolo',\n",
    "    'Tijolo: Hospitalar':'Tijolo',\n",
    "    'Fundo Misto: ':'Fundo Misto',\n",
    "    'Tijolo: ':'Tijolo',\n",
    "    'Outros: Fundo de Desenvolvimento':'Outros',\n",
    "    'Fundos Imobiliários: Fundos Imobiliários':'Outros',\n",
    "    'Fundo Misto: Papéis':'Fundo Misto'\n",
    "}\n",
    "df.Categoria = df.Categoria.map(categorias)"
   ]
  },
  {
   "cell_type": "markdown",
   "id": "70fa1d7a",
   "metadata": {},
   "source": [
    "*Primeiras linhas*"
   ]
  },
  {
   "cell_type": "code",
   "execution_count": 19,
   "id": "7c915d34",
   "metadata": {},
   "outputs": [
    {
     "data": {
      "text/plain": [
       "0    Fiagro\n",
       "1    Fiagro\n",
       "2    Tijolo\n",
       "3    Outros\n",
       "4     Papel\n",
       "5    Outros\n",
       "6    Fiagro\n",
       "7    Tijolo\n",
       "8    Outros\n",
       "9    Tijolo\n",
       "Name: Categoria, dtype: object"
      ]
     },
     "execution_count": 19,
     "metadata": {},
     "output_type": "execute_result"
    }
   ],
   "source": [
    "df.Categoria.head(10)"
   ]
  },
  {
   "cell_type": "markdown",
   "id": "549a1d4b",
   "metadata": {},
   "source": [
    "*Conferindo alterações*"
   ]
  },
  {
   "cell_type": "code",
   "execution_count": 20,
   "id": "a635e38b",
   "metadata": {},
   "outputs": [
    {
     "data": {
      "text/plain": [
       "0"
      ]
     },
     "execution_count": 20,
     "metadata": {},
     "output_type": "execute_result"
    }
   ],
   "source": [
    "df.Categoria.isna().sum()"
   ]
  },
  {
   "cell_type": "code",
   "execution_count": 21,
   "id": "b5f9cec2",
   "metadata": {},
   "outputs": [
    {
     "data": {
      "text/plain": [
       "array(['Fiagro', 'Tijolo', 'Outros', 'Papel', 'Fundo Misto'], dtype=object)"
      ]
     },
     "execution_count": 21,
     "metadata": {},
     "output_type": "execute_result"
    }
   ],
   "source": [
    "df.Categoria.unique()"
   ]
  },
  {
   "cell_type": "code",
   "execution_count": 22,
   "id": "7bd8aa3a",
   "metadata": {},
   "outputs": [
    {
     "data": {
      "text/plain": [
       "Categoria\n",
       "Tijolo         180\n",
       "Fundo Misto    151\n",
       "Papel          117\n",
       "Outros          94\n",
       "Fiagro          39\n",
       "Name: count, dtype: int64"
      ]
     },
     "execution_count": 22,
     "metadata": {},
     "output_type": "execute_result"
    }
   ],
   "source": [
    "df.Categoria.value_counts()"
   ]
  },
  {
   "cell_type": "markdown",
   "id": "16ef3804",
   "metadata": {},
   "source": [
    "---\n",
    "## Conferindo alterações \n",
    "---"
   ]
  },
  {
   "cell_type": "code",
   "execution_count": 23,
   "id": "645a4544",
   "metadata": {},
   "outputs": [
    {
     "data": {
      "text/plain": [
       "(581, 4)"
      ]
     },
     "execution_count": 23,
     "metadata": {},
     "output_type": "execute_result"
    }
   ],
   "source": [
    "df.shape"
   ]
  },
  {
   "cell_type": "code",
   "execution_count": 24,
   "id": "97696490",
   "metadata": {},
   "outputs": [
    {
     "data": {
      "text/plain": [
       "Ticker       0\n",
       "DY           0\n",
       "Nome         0\n",
       "Categoria    0\n",
       "dtype: int64"
      ]
     },
     "execution_count": 24,
     "metadata": {},
     "output_type": "execute_result"
    }
   ],
   "source": [
    "df.isna().sum()"
   ]
  },
  {
   "cell_type": "code",
   "execution_count": 25,
   "id": "ba948c29",
   "metadata": {},
   "outputs": [
    {
     "data": {
      "text/html": [
       "<div>\n",
       "<style scoped>\n",
       "    .dataframe tbody tr th:only-of-type {\n",
       "        vertical-align: middle;\n",
       "    }\n",
       "\n",
       "    .dataframe tbody tr th {\n",
       "        vertical-align: top;\n",
       "    }\n",
       "\n",
       "    .dataframe thead th {\n",
       "        text-align: right;\n",
       "    }\n",
       "</style>\n",
       "<table border=\"1\" class=\"dataframe\">\n",
       "  <thead>\n",
       "    <tr style=\"text-align: right;\">\n",
       "      <th></th>\n",
       "      <th>Ticker</th>\n",
       "      <th>DY</th>\n",
       "      <th>Nome</th>\n",
       "      <th>Categoria</th>\n",
       "    </tr>\n",
       "  </thead>\n",
       "  <tbody>\n",
       "    <tr>\n",
       "      <th>0</th>\n",
       "      <td>AAGR11</td>\n",
       "      <td>0.00</td>\n",
       "      <td>ASSET BANK AGRONEGÓCIOS FIAGRO IMOBILIARIO</td>\n",
       "      <td>Fiagro</td>\n",
       "    </tr>\n",
       "    <tr>\n",
       "      <th>1</th>\n",
       "      <td>AAZQ11</td>\n",
       "      <td>16.45</td>\n",
       "      <td>-</td>\n",
       "      <td>Fiagro</td>\n",
       "    </tr>\n",
       "    <tr>\n",
       "      <th>2</th>\n",
       "      <td>ABCP11</td>\n",
       "      <td>8.62</td>\n",
       "      <td>Grand Plaza Shopping</td>\n",
       "      <td>Tijolo</td>\n",
       "    </tr>\n",
       "    <tr>\n",
       "      <th>3</th>\n",
       "      <td>AFCR11</td>\n",
       "      <td>0.00</td>\n",
       "      <td>-</td>\n",
       "      <td>Outros</td>\n",
       "    </tr>\n",
       "    <tr>\n",
       "      <th>4</th>\n",
       "      <td>AFHI11</td>\n",
       "      <td>12.89</td>\n",
       "      <td>AF INVEST CRI</td>\n",
       "      <td>Papel</td>\n",
       "    </tr>\n",
       "  </tbody>\n",
       "</table>\n",
       "</div>"
      ],
      "text/plain": [
       "   Ticker     DY                                        Nome Categoria\n",
       "0  AAGR11   0.00  ASSET BANK AGRONEGÓCIOS FIAGRO IMOBILIARIO    Fiagro\n",
       "1  AAZQ11  16.45                                           -    Fiagro\n",
       "2  ABCP11   8.62                        Grand Plaza Shopping    Tijolo\n",
       "3  AFCR11   0.00                                           -    Outros\n",
       "4  AFHI11  12.89                               AF INVEST CRI     Papel"
      ]
     },
     "execution_count": 25,
     "metadata": {},
     "output_type": "execute_result"
    }
   ],
   "source": [
    "df.head()"
   ]
  },
  {
   "cell_type": "code",
   "execution_count": 26,
   "id": "5de356cc",
   "metadata": {},
   "outputs": [
    {
     "name": "stdout",
     "output_type": "stream",
     "text": [
      "<class 'pandas.core.frame.DataFrame'>\n",
      "RangeIndex: 581 entries, 0 to 580\n",
      "Data columns (total 4 columns):\n",
      " #   Column     Non-Null Count  Dtype  \n",
      "---  ------     --------------  -----  \n",
      " 0   Ticker     581 non-null    object \n",
      " 1   DY         581 non-null    float64\n",
      " 2   Nome       581 non-null    object \n",
      " 3   Categoria  581 non-null    object \n",
      "dtypes: float64(1), object(3)\n",
      "memory usage: 18.3+ KB\n"
     ]
    }
   ],
   "source": [
    "df.info()"
   ]
  },
  {
   "cell_type": "markdown",
   "id": "9f69c8a5",
   "metadata": {},
   "source": [
    "---\n",
    "## Persistindo dados\n",
    "---"
   ]
  },
  {
   "cell_type": "code",
   "execution_count": 27,
   "id": "d0539349",
   "metadata": {},
   "outputs": [],
   "source": [
    "df.to_csv('../dados/dados_tratados.csv',index=False)\n",
    "df.to_excel('../dados/dados_tratados.xlsx',index=False)\n",
    "df.to_json('../dados/dados_tratados.json', orient='records', indent=2)"
   ]
  }
 ],
 "metadata": {
  "kernelspec": {
   "display_name": "Python 3 (ipykernel)",
   "language": "python",
   "name": "python3"
  },
  "language_info": {
   "codemirror_mode": {
    "name": "ipython",
    "version": 3
   },
   "file_extension": ".py",
   "mimetype": "text/x-python",
   "name": "python",
   "nbconvert_exporter": "python",
   "pygments_lexer": "ipython3",
   "version": "3.11.5"
  }
 },
 "nbformat": 4,
 "nbformat_minor": 5
}
