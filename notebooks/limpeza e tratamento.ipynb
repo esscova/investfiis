{
 "cells": [
  {
   "cell_type": "markdown",
   "id": "47a727dc",
   "metadata": {},
   "source": [
    "## Relatório da exploração do dataset\n",
    "\n",
    "- DY - Transformar valores para float.\n",
    "- Nome - Tratar valores ausentes.\n",
    "- Categoria - Padronizar valores."
   ]
  },
  {
   "cell_type": "markdown",
   "id": "1f87b8be",
   "metadata": {},
   "source": [
    "## Carregando dados"
   ]
  },
  {
   "cell_type": "code",
   "execution_count": 1,
   "id": "1169c1d2",
   "metadata": {},
   "outputs": [],
   "source": [
    "import pandas as pd\n",
    "df = pd.read_csv('dados/dados.csv')"
   ]
  },
  {
   "cell_type": "markdown",
   "id": "da599a38",
   "metadata": {},
   "source": [
    "## Primeiras linhas"
   ]
  },
  {
   "cell_type": "code",
   "execution_count": 2,
   "id": "e3c098e9",
   "metadata": {},
   "outputs": [
    {
     "data": {
      "text/html": [
       "<div>\n",
       "<style scoped>\n",
       "    .dataframe tbody tr th:only-of-type {\n",
       "        vertical-align: middle;\n",
       "    }\n",
       "\n",
       "    .dataframe tbody tr th {\n",
       "        vertical-align: top;\n",
       "    }\n",
       "\n",
       "    .dataframe thead th {\n",
       "        text-align: right;\n",
       "    }\n",
       "</style>\n",
       "<table border=\"1\" class=\"dataframe\">\n",
       "  <thead>\n",
       "    <tr style=\"text-align: right;\">\n",
       "      <th></th>\n",
       "      <th>Ticker</th>\n",
       "      <th>DY</th>\n",
       "      <th>Nome</th>\n",
       "      <th>Categoria</th>\n",
       "    </tr>\n",
       "  </thead>\n",
       "  <tbody>\n",
       "    <tr>\n",
       "      <th>0</th>\n",
       "      <td>AAGR11</td>\n",
       "      <td>-</td>\n",
       "      <td>ASSET BANK AGRONEGÓCIOS FIAGRO IMOBILIARIO</td>\n",
       "      <td>Fiagro:</td>\n",
       "    </tr>\n",
       "    <tr>\n",
       "      <th>1</th>\n",
       "      <td>AAZQ11</td>\n",
       "      <td>16,45</td>\n",
       "      <td>NaN</td>\n",
       "      <td>Fiagro: Fiagro</td>\n",
       "    </tr>\n",
       "    <tr>\n",
       "      <th>2</th>\n",
       "      <td>ABCP11</td>\n",
       "      <td>8,62</td>\n",
       "      <td>Grand Plaza Shopping</td>\n",
       "      <td>Tijolo: Shoppings</td>\n",
       "    </tr>\n",
       "    <tr>\n",
       "      <th>3</th>\n",
       "      <td>AFCR11</td>\n",
       "      <td>-</td>\n",
       "      <td>NaN</td>\n",
       "      <td>Outros: Indefinido</td>\n",
       "    </tr>\n",
       "    <tr>\n",
       "      <th>4</th>\n",
       "      <td>AFHI11</td>\n",
       "      <td>12,89</td>\n",
       "      <td>AF INVEST CRI</td>\n",
       "      <td>Papel: Papéis</td>\n",
       "    </tr>\n",
       "  </tbody>\n",
       "</table>\n",
       "</div>"
      ],
      "text/plain": [
       "   Ticker     DY                                        Nome  \\\n",
       "0  AAGR11      -  ASSET BANK AGRONEGÓCIOS FIAGRO IMOBILIARIO   \n",
       "1  AAZQ11  16,45                                         NaN   \n",
       "2  ABCP11   8,62                        Grand Plaza Shopping   \n",
       "3  AFCR11      -                                         NaN   \n",
       "4  AFHI11  12,89                               AF INVEST CRI   \n",
       "\n",
       "            Categoria  \n",
       "0            Fiagro:   \n",
       "1      Fiagro: Fiagro  \n",
       "2   Tijolo: Shoppings  \n",
       "3  Outros: Indefinido  \n",
       "4       Papel: Papéis  "
      ]
     },
     "execution_count": 2,
     "metadata": {},
     "output_type": "execute_result"
    }
   ],
   "source": [
    "df.head()"
   ]
  },
  {
   "cell_type": "markdown",
   "id": "f1c57394",
   "metadata": {},
   "source": [
    "## Campo - DY"
   ]
  },
  {
   "cell_type": "code",
   "execution_count": 18,
   "id": "10be3eea",
   "metadata": {},
   "outputs": [
    {
     "data": {
      "text/plain": [
       "DY\n",
       "-        188\n",
       "0,05       1\n",
       "0,09       1\n",
       "0,12       1\n",
       "0,17       1\n",
       "        ... \n",
       "9,80       1\n",
       "9,82       1\n",
       "9,86       1\n",
       "9,88       1\n",
       "96,95      1\n",
       "Name: Ticker, Length: 349, dtype: int64"
      ]
     },
     "execution_count": 18,
     "metadata": {},
     "output_type": "execute_result"
    }
   ],
   "source": [
    "df.groupby('DY')['Ticker'].count()"
   ]
  },
  {
   "cell_type": "markdown",
   "id": "f3b34c94",
   "metadata": {},
   "source": [
    "*Substituindo '-' por '0'*"
   ]
  },
  {
   "cell_type": "code",
   "execution_count": 20,
   "id": "625ddf90",
   "metadata": {},
   "outputs": [],
   "source": [
    "df['DY'] = df['DY'].str.replace('-','0')"
   ]
  },
  {
   "cell_type": "markdown",
   "id": "b9f7b09c",
   "metadata": {},
   "source": [
    "*Substituindo '.' por '' em possível formatação de milhar*"
   ]
  },
  {
   "cell_type": "code",
   "execution_count": 22,
   "id": "4dff9538",
   "metadata": {},
   "outputs": [],
   "source": [
    "df['DY'] = df['DY'].str.replace('.','')"
   ]
  },
  {
   "cell_type": "markdown",
   "id": "4504395a",
   "metadata": {},
   "source": [
    "*Substituindo ',' por '.'*"
   ]
  },
  {
   "cell_type": "code",
   "execution_count": 24,
   "id": "a255a64b",
   "metadata": {},
   "outputs": [],
   "source": [
    "df['DY'] = df['DY'].str.replace(',','.')"
   ]
  },
  {
   "cell_type": "markdown",
   "id": "8690cc4f",
   "metadata": {},
   "source": [
    "*Convertendo para float*"
   ]
  },
  {
   "cell_type": "code",
   "execution_count": 26,
   "id": "623c8959",
   "metadata": {},
   "outputs": [],
   "source": [
    "df['DY'] = df['DY'].astype(float)"
   ]
  },
  {
   "cell_type": "markdown",
   "id": "c256f20e",
   "metadata": {},
   "source": [
    "*Primeiras linhas*"
   ]
  },
  {
   "cell_type": "code",
   "execution_count": 29,
   "id": "0bc8d582",
   "metadata": {},
   "outputs": [
    {
     "data": {
      "text/plain": [
       "0     0.00\n",
       "1    16.45\n",
       "2     8.62\n",
       "3     0.00\n",
       "4    12.89\n",
       "Name: DY, dtype: float64"
      ]
     },
     "execution_count": 29,
     "metadata": {},
     "output_type": "execute_result"
    }
   ],
   "source": [
    "df.DY.head()"
   ]
  },
  {
   "cell_type": "markdown",
   "id": "7f5f268f",
   "metadata": {},
   "source": [
    "*Resumo estatístico*"
   ]
  },
  {
   "cell_type": "code",
   "execution_count": 28,
   "id": "0970c2d2",
   "metadata": {},
   "outputs": [
    {
     "data": {
      "text/plain": [
       "count     581.000000\n",
       "mean       12.117022\n",
       "std        69.559046\n",
       "min         0.000000\n",
       "25%         0.000000\n",
       "50%         7.360000\n",
       "75%        11.740000\n",
       "max      1233.330000\n",
       "Name: DY, dtype: float64"
      ]
     },
     "execution_count": 28,
     "metadata": {},
     "output_type": "execute_result"
    }
   ],
   "source": [
    "df.DY.describe()"
   ]
  },
  {
   "cell_type": "markdown",
   "id": "56a9b59b",
   "metadata": {},
   "source": [
    "## Campo - Nome"
   ]
  },
  {
   "cell_type": "code",
   "execution_count": 31,
   "id": "f3d60d7b",
   "metadata": {},
   "outputs": [
    {
     "data": {
      "text/plain": [
       "137"
      ]
     },
     "execution_count": 31,
     "metadata": {},
     "output_type": "execute_result"
    }
   ],
   "source": [
    "df['Nome'].isna().sum()"
   ]
  },
  {
   "cell_type": "code",
   "execution_count": 32,
   "id": "3996625b",
   "metadata": {},
   "outputs": [],
   "source": [
    "df['Nome'].fillna('-', inplace=True)"
   ]
  },
  {
   "cell_type": "code",
   "execution_count": 34,
   "id": "90e7c598",
   "metadata": {},
   "outputs": [
    {
     "data": {
      "text/plain": [
       "0"
      ]
     },
     "execution_count": 34,
     "metadata": {},
     "output_type": "execute_result"
    }
   ],
   "source": [
    "df['Nome'].isna().sum()"
   ]
  },
  {
   "cell_type": "code",
   "execution_count": 35,
   "id": "b2c0d4ef",
   "metadata": {},
   "outputs": [
    {
     "data": {
      "text/plain": [
       "0    ASSET BANK AGRONEGÓCIOS FIAGRO IMOBILIARIO\n",
       "1                                             -\n",
       "2                          Grand Plaza Shopping\n",
       "3                                             -\n",
       "4                                 AF INVEST CRI\n",
       "Name: Nome, dtype: object"
      ]
     },
     "execution_count": 35,
     "metadata": {},
     "output_type": "execute_result"
    }
   ],
   "source": [
    "df['Nome'].head()"
   ]
  },
  {
   "cell_type": "markdown",
   "id": "8ec747a7",
   "metadata": {},
   "source": [
    "## Campo - Categoria"
   ]
  },
  {
   "cell_type": "code",
   "execution_count": 40,
   "id": "c6d7946f",
   "metadata": {},
   "outputs": [
    {
     "data": {
      "text/plain": [
       "array(['Fiagro: ', 'Fiagro: Fiagro', 'Tijolo: Shoppings',\n",
       "       'Outros: Indefinido', 'Papel: Papéis',\n",
       "       'Tijolo: Lajes Corporativas', 'Sem categoria: ',\n",
       "       'Papel: Fundo de Fundos', 'Fundo Misto: Misto',\n",
       "       'Tijolo: Imóveis Residenciais', 'Fundos Imobiliários: ',\n",
       "       'Tijolo: Imóveis Industriais e Logísticos',\n",
       "       'Fundo Misto: Indefinido', 'Tijolo: Imóveis Comerciais - Outros',\n",
       "       'Tijolo: Agências de Bancos', 'Tijolo: Hotéis',\n",
       "       'Fundo Misto: Fundo de Desenvolvimento', 'Papel: ',\n",
       "       'Tijolo: Varejo', 'Tijolo: Fundo de Desenvolvimento',\n",
       "       'Tijolo: Educacional', 'Tijolo: Hospitalar', 'Fundo Misto: ',\n",
       "       'Tijolo: ', 'Outros: Fundo de Desenvolvimento',\n",
       "       'Fundos Imobiliários: Fundos Imobiliários', 'Fundo Misto: Papéis'],\n",
       "      dtype=object)"
      ]
     },
     "execution_count": 40,
     "metadata": {},
     "output_type": "execute_result"
    }
   ],
   "source": [
    "df.Categoria.unique()"
   ]
  },
  {
   "cell_type": "code",
   "execution_count": 39,
   "id": "6469f749",
   "metadata": {},
   "outputs": [
    {
     "data": {
      "text/plain": [
       "Categoria\n",
       "Fundo Misto: Indefinido                     86\n",
       "Papel: Papéis                               80\n",
       "Tijolo: Lajes Corporativas                  64\n",
       "Tijolo: Imóveis Industriais e Logísticos    45\n",
       "Fundo Misto: Fundo de Desenvolvimento       43\n",
       "Papel: Fundo de Fundos                      36\n",
       "Sem categoria:                              34\n",
       "Outros: Indefinido                          33\n",
       "Tijolo: Shoppings                           32\n",
       "Fundos Imobiliários:                        25\n",
       "Fiagro: Fiagro                              23\n",
       "Fundo Misto: Misto                          20\n",
       "Fiagro:                                     16\n",
       "Tijolo: Hospitalar                           6\n",
       "Tijolo: Varejo                               6\n",
       "Tijolo: Educacional                          5\n",
       "Tijolo: Imóveis Comerciais - Outros          5\n",
       "Tijolo: Imóveis Residenciais                 5\n",
       "Tijolo: Hotéis                               4\n",
       "Tijolo: Agências de Bancos                   4\n",
       "Tijolo: Fundo de Desenvolvimento             3\n",
       "Papel:                                       1\n",
       "Fundo Misto:                                 1\n",
       "Tijolo:                                      1\n",
       "Outros: Fundo de Desenvolvimento             1\n",
       "Fundos Imobiliários: Fundos Imobiliários     1\n",
       "Fundo Misto: Papéis                          1\n",
       "Name: count, dtype: int64"
      ]
     },
     "execution_count": 39,
     "metadata": {},
     "output_type": "execute_result"
    }
   ],
   "source": [
    "df.Categoria.value_counts()"
   ]
  },
  {
   "cell_type": "code",
   "execution_count": null,
   "id": "83239e0f",
   "metadata": {},
   "outputs": [],
   "source": [
    "categorias = {\n",
    "    \n",
    "    'Fundo Misto: Indefinido':'Fundo Misto',\n",
    "    'Papel: Papéis': 'Papel',\n",
    "    'Tijolo: Lajes Corporativas': 'Tijolo',\n",
    "    'Tijolo: Imóveis Industriais e Logísticos':'Tijolo',\n",
    "Fundo Misto: Fundo de Desenvolvimento       43\n",
    "Papel: Fundo de Fundos                      36\n",
    "Sem categoria:                              34\n",
    "Outros: Indefinido                          33\n",
    "Tijolo: Shoppings                           32\n",
    "Fundos Imobiliários:                        25\n",
    "Fiagro: Fiagro                              23\n",
    "Fundo Misto: Misto                          20\n",
    "Fiagro:                                     16\n",
    "Tijolo: Hospitalar                           6\n",
    "Tijolo: Varejo                               6\n",
    "Tijolo: Educacional                          5\n",
    "Tijolo: Imóveis Comerciais - Outros          5\n",
    "Tijolo: Imóveis Residenciais                 5\n",
    "Tijolo: Hotéis                               4\n",
    "Tijolo: Agências de Bancos                   4\n",
    "Tijolo: Fundo de Desenvolvimento             3\n",
    "Papel:                                       1\n",
    "Fundo Misto:                                 1\n",
    "Tijolo:                                      1\n",
    "Outros: Fundo de Desenvolvimento             1\n",
    "Fundos Imobiliários: Fundos Imobiliários     1\n",
    "Fundo Misto: Papéis                          1\n",
    "    \n",
    "}"
   ]
  },
  {
   "cell_type": "code",
   "execution_count": null,
   "id": "e08675ab",
   "metadata": {},
   "outputs": [],
   "source": []
  },
  {
   "cell_type": "code",
   "execution_count": null,
   "id": "4ee49aad",
   "metadata": {},
   "outputs": [],
   "source": []
  },
  {
   "cell_type": "markdown",
   "id": "ee2277ad",
   "metadata": {},
   "source": [
    "## Analise de dados"
   ]
  },
  {
   "cell_type": "code",
   "execution_count": 5,
   "id": "86efd2b3",
   "metadata": {},
   "outputs": [
    {
     "data": {
      "text/plain": [
       "ticker    object\n",
       "dy        object\n",
       "dtype: object"
      ]
     },
     "execution_count": 5,
     "metadata": {},
     "output_type": "execute_result"
    }
   ],
   "source": [
    "df.dtypes"
   ]
  },
  {
   "cell_type": "code",
   "execution_count": 4,
   "id": "0a963110",
   "metadata": {},
   "outputs": [
    {
     "data": {
      "text/plain": [
       "553"
      ]
     },
     "execution_count": 4,
     "metadata": {},
     "output_type": "execute_result"
    }
   ],
   "source": [
    "df.shape[0]"
   ]
  },
  {
   "cell_type": "markdown",
   "id": "03fb1a07",
   "metadata": {},
   "source": [
    "## Tratamento e preparação de dados"
   ]
  },
  {
   "cell_type": "code",
   "execution_count": 13,
   "id": "fe933bea",
   "metadata": {},
   "outputs": [],
   "source": [
    "df['dy'] = df['dy'].str.replace('.', '').str.replace(',', '.').str.replace('-','0') \n",
    "# retirando o '.' do milhar\n",
    "# padronizando decimal\n",
    "# padronizando para 0 decimal\n",
    "\n",
    "# toda a coluna para decimal\n",
    "df['dy'] = df['dy'].astype(float)"
   ]
  },
  {
   "cell_type": "code",
   "execution_count": 14,
   "id": "11daece8",
   "metadata": {},
   "outputs": [
    {
     "data": {
      "text/html": [
       "<div>\n",
       "<style scoped>\n",
       "    .dataframe tbody tr th:only-of-type {\n",
       "        vertical-align: middle;\n",
       "    }\n",
       "\n",
       "    .dataframe tbody tr th {\n",
       "        vertical-align: top;\n",
       "    }\n",
       "\n",
       "    .dataframe thead th {\n",
       "        text-align: right;\n",
       "    }\n",
       "</style>\n",
       "<table border=\"1\" class=\"dataframe\">\n",
       "  <thead>\n",
       "    <tr style=\"text-align: right;\">\n",
       "      <th></th>\n",
       "      <th>ticker</th>\n",
       "      <th>dy</th>\n",
       "    </tr>\n",
       "  </thead>\n",
       "  <tbody>\n",
       "    <tr>\n",
       "      <th>0</th>\n",
       "      <td>AAGR11</td>\n",
       "      <td>0.00</td>\n",
       "    </tr>\n",
       "    <tr>\n",
       "      <th>1</th>\n",
       "      <td>AAZQ11</td>\n",
       "      <td>16.87</td>\n",
       "    </tr>\n",
       "    <tr>\n",
       "      <th>2</th>\n",
       "      <td>ABCP11</td>\n",
       "      <td>8.79</td>\n",
       "    </tr>\n",
       "  </tbody>\n",
       "</table>\n",
       "</div>"
      ],
      "text/plain": [
       "   ticker     dy\n",
       "0  AAGR11   0.00\n",
       "1  AAZQ11  16.87\n",
       "2  ABCP11   8.79"
      ]
     },
     "execution_count": 14,
     "metadata": {},
     "output_type": "execute_result"
    }
   ],
   "source": [
    "df.head(3)"
   ]
  },
  {
   "cell_type": "code",
   "execution_count": 50,
   "id": "bf20ac5f",
   "metadata": {},
   "outputs": [
    {
     "data": {
      "text/plain": [
       "ticker     object\n",
       "dy        float64\n",
       "dtype: object"
      ]
     },
     "execution_count": 50,
     "metadata": {},
     "output_type": "execute_result"
    }
   ],
   "source": [
    "df.dtypes"
   ]
  },
  {
   "cell_type": "code",
   "execution_count": 51,
   "id": "ba6823e5",
   "metadata": {},
   "outputs": [
    {
     "data": {
      "text/plain": [
       "553"
      ]
     },
     "execution_count": 51,
     "metadata": {},
     "output_type": "execute_result"
    }
   ],
   "source": [
    "df.shape[0]"
   ]
  },
  {
   "cell_type": "code",
   "execution_count": 55,
   "id": "9f8ee84c",
   "metadata": {},
   "outputs": [
    {
     "name": "stdout",
     "output_type": "stream",
     "text": [
      "Empty DataFrame\n",
      "Columns: [ticker, dy]\n",
      "Index: []\n"
     ]
    }
   ],
   "source": [
    "duplicadas = df.ticker.duplicated()\n",
    "print(df[duplicadas])"
   ]
  },
  {
   "cell_type": "code",
   "execution_count": 60,
   "id": "6135da6f",
   "metadata": {},
   "outputs": [
    {
     "data": {
      "text/plain": [
       "count     553.000000\n",
       "mean       12.852532\n",
       "std        70.035276\n",
       "min         0.000000\n",
       "25%         0.000000\n",
       "50%         8.060000\n",
       "75%        11.890000\n",
       "max      1233.330000\n",
       "Name: dy, dtype: float64"
      ]
     },
     "execution_count": 60,
     "metadata": {},
     "output_type": "execute_result"
    }
   ],
   "source": [
    "df.dy.describe()"
   ]
  },
  {
   "cell_type": "code",
   "execution_count": 76,
   "id": "2f1f70e1",
   "metadata": {},
   "outputs": [],
   "source": [
    "df.to_csv('dados/lista-de-fiis_v2.csv',index=False)"
   ]
  }
 ],
 "metadata": {
  "kernelspec": {
   "display_name": "Python 3 (ipykernel)",
   "language": "python",
   "name": "python3"
  },
  "language_info": {
   "codemirror_mode": {
    "name": "ipython",
    "version": 3
   },
   "file_extension": ".py",
   "mimetype": "text/x-python",
   "name": "python",
   "nbconvert_exporter": "python",
   "pygments_lexer": "ipython3",
   "version": "3.11.5"
  }
 },
 "nbformat": 4,
 "nbformat_minor": 5
}
