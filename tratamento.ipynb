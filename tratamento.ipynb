{
 "cells": [
  {
   "cell_type": "markdown",
   "id": "1f87b8be",
   "metadata": {},
   "source": [
    "## Importando libs"
   ]
  },
  {
   "cell_type": "code",
   "execution_count": 58,
   "id": "1169c1d2",
   "metadata": {},
   "outputs": [],
   "source": [
    "import pandas as pd\n",
    "import matplotlib.pyplot as plt\n",
    "import seaborn as sns"
   ]
  },
  {
   "cell_type": "markdown",
   "id": "da599a38",
   "metadata": {},
   "source": [
    "## Carregando base de dados"
   ]
  },
  {
   "cell_type": "code",
   "execution_count": 44,
   "id": "8e4ad73e",
   "metadata": {},
   "outputs": [],
   "source": [
    "df=pd.read_csv('dados/lista-de-fiis.csv')"
   ]
  },
  {
   "cell_type": "markdown",
   "id": "ee2277ad",
   "metadata": {},
   "source": [
    "## Analise de dados"
   ]
  },
  {
   "cell_type": "code",
   "execution_count": 45,
   "id": "e3c098e9",
   "metadata": {},
   "outputs": [
    {
     "data": {
      "text/html": [
       "<div>\n",
       "<style scoped>\n",
       "    .dataframe tbody tr th:only-of-type {\n",
       "        vertical-align: middle;\n",
       "    }\n",
       "\n",
       "    .dataframe tbody tr th {\n",
       "        vertical-align: top;\n",
       "    }\n",
       "\n",
       "    .dataframe thead th {\n",
       "        text-align: right;\n",
       "    }\n",
       "</style>\n",
       "<table border=\"1\" class=\"dataframe\">\n",
       "  <thead>\n",
       "    <tr style=\"text-align: right;\">\n",
       "      <th></th>\n",
       "      <th>ticker</th>\n",
       "      <th>dy</th>\n",
       "    </tr>\n",
       "  </thead>\n",
       "  <tbody>\n",
       "    <tr>\n",
       "      <th>0</th>\n",
       "      <td>AAGR11</td>\n",
       "      <td>-</td>\n",
       "    </tr>\n",
       "    <tr>\n",
       "      <th>1</th>\n",
       "      <td>AAZQ11</td>\n",
       "      <td>16,87</td>\n",
       "    </tr>\n",
       "    <tr>\n",
       "      <th>2</th>\n",
       "      <td>ABCP11</td>\n",
       "      <td>8,79</td>\n",
       "    </tr>\n",
       "    <tr>\n",
       "      <th>3</th>\n",
       "      <td>AFCR11</td>\n",
       "      <td>-</td>\n",
       "    </tr>\n",
       "    <tr>\n",
       "      <th>4</th>\n",
       "      <td>AFHI11</td>\n",
       "      <td>12,75</td>\n",
       "    </tr>\n",
       "  </tbody>\n",
       "</table>\n",
       "</div>"
      ],
      "text/plain": [
       "   ticker     dy\n",
       "0  AAGR11      -\n",
       "1  AAZQ11  16,87\n",
       "2  ABCP11   8,79\n",
       "3  AFCR11      -\n",
       "4  AFHI11  12,75"
      ]
     },
     "execution_count": 45,
     "metadata": {},
     "output_type": "execute_result"
    }
   ],
   "source": [
    "df.head()"
   ]
  },
  {
   "cell_type": "code",
   "execution_count": 46,
   "id": "86efd2b3",
   "metadata": {},
   "outputs": [
    {
     "data": {
      "text/plain": [
       "ticker    object\n",
       "dy        object\n",
       "dtype: object"
      ]
     },
     "execution_count": 46,
     "metadata": {},
     "output_type": "execute_result"
    }
   ],
   "source": [
    "df.dtypes"
   ]
  },
  {
   "cell_type": "code",
   "execution_count": 47,
   "id": "0a963110",
   "metadata": {},
   "outputs": [
    {
     "data": {
      "text/plain": [
       "553"
      ]
     },
     "execution_count": 47,
     "metadata": {},
     "output_type": "execute_result"
    }
   ],
   "source": [
    "df.shape[0]"
   ]
  },
  {
   "cell_type": "markdown",
   "id": "03fb1a07",
   "metadata": {},
   "source": [
    "## Tratamento e preparação de dados"
   ]
  },
  {
   "cell_type": "code",
   "execution_count": 48,
   "id": "fe933bea",
   "metadata": {},
   "outputs": [],
   "source": [
    "df['dy'] = df['dy']\n",
    "    .str.replace('.', '') # retirando o '.' do milhar\n",
    "    .str.replace(',', '.')# padronizando decimal\n",
    "    .str.replace('-','0') # padronizando para 0 decimal\n",
    "\n",
    "# toda a coluna para decimal\n",
    "df['dy'] = df['dy'].astype(float)"
   ]
  },
  {
   "cell_type": "code",
   "execution_count": 49,
   "id": "11daece8",
   "metadata": {},
   "outputs": [
    {
     "data": {
      "text/html": [
       "<div>\n",
       "<style scoped>\n",
       "    .dataframe tbody tr th:only-of-type {\n",
       "        vertical-align: middle;\n",
       "    }\n",
       "\n",
       "    .dataframe tbody tr th {\n",
       "        vertical-align: top;\n",
       "    }\n",
       "\n",
       "    .dataframe thead th {\n",
       "        text-align: right;\n",
       "    }\n",
       "</style>\n",
       "<table border=\"1\" class=\"dataframe\">\n",
       "  <thead>\n",
       "    <tr style=\"text-align: right;\">\n",
       "      <th></th>\n",
       "      <th>ticker</th>\n",
       "      <th>dy</th>\n",
       "    </tr>\n",
       "  </thead>\n",
       "  <tbody>\n",
       "    <tr>\n",
       "      <th>0</th>\n",
       "      <td>AAGR11</td>\n",
       "      <td>0.00</td>\n",
       "    </tr>\n",
       "    <tr>\n",
       "      <th>1</th>\n",
       "      <td>AAZQ11</td>\n",
       "      <td>16.87</td>\n",
       "    </tr>\n",
       "    <tr>\n",
       "      <th>2</th>\n",
       "      <td>ABCP11</td>\n",
       "      <td>8.79</td>\n",
       "    </tr>\n",
       "  </tbody>\n",
       "</table>\n",
       "</div>"
      ],
      "text/plain": [
       "   ticker     dy\n",
       "0  AAGR11   0.00\n",
       "1  AAZQ11  16.87\n",
       "2  ABCP11   8.79"
      ]
     },
     "execution_count": 49,
     "metadata": {},
     "output_type": "execute_result"
    }
   ],
   "source": [
    "df.head(3)"
   ]
  },
  {
   "cell_type": "code",
   "execution_count": 50,
   "id": "bf20ac5f",
   "metadata": {},
   "outputs": [
    {
     "data": {
      "text/plain": [
       "ticker     object\n",
       "dy        float64\n",
       "dtype: object"
      ]
     },
     "execution_count": 50,
     "metadata": {},
     "output_type": "execute_result"
    }
   ],
   "source": [
    "df.dtypes"
   ]
  },
  {
   "cell_type": "code",
   "execution_count": 51,
   "id": "ba6823e5",
   "metadata": {},
   "outputs": [
    {
     "data": {
      "text/plain": [
       "553"
      ]
     },
     "execution_count": 51,
     "metadata": {},
     "output_type": "execute_result"
    }
   ],
   "source": [
    "df.shape[0]"
   ]
  },
  {
   "cell_type": "code",
   "execution_count": 55,
   "id": "9f8ee84c",
   "metadata": {},
   "outputs": [
    {
     "name": "stdout",
     "output_type": "stream",
     "text": [
      "Empty DataFrame\n",
      "Columns: [ticker, dy]\n",
      "Index: []\n"
     ]
    }
   ],
   "source": [
    "duplicadas = df.ticker.duplicated()\n",
    "print(df[duplicadas])"
   ]
  },
  {
   "cell_type": "code",
   "execution_count": 60,
   "id": "6135da6f",
   "metadata": {},
   "outputs": [
    {
     "data": {
      "text/plain": [
       "count     553.000000\n",
       "mean       12.852532\n",
       "std        70.035276\n",
       "min         0.000000\n",
       "25%         0.000000\n",
       "50%         8.060000\n",
       "75%        11.890000\n",
       "max      1233.330000\n",
       "Name: dy, dtype: float64"
      ]
     },
     "execution_count": 60,
     "metadata": {},
     "output_type": "execute_result"
    }
   ],
   "source": [
    "df.dy.describe()"
   ]
  },
  {
   "cell_type": "code",
   "execution_count": 75,
   "id": "b2cc0de9",
   "metadata": {},
   "outputs": [
    {
     "data": {
      "image/png": "[encoded data removed]",
      "text/plain": [
       "<Figure size 1200x600 with 2 Axes>"
      ]
     },
     "metadata": {},
     "output_type": "display_data"
    }
   ],
   "source": [
    "fig, axs = plt.subplots(1,2, figsize=(12, 6))\n",
    "\n",
    "# outliers\n",
    "sns.boxplot(x='dy', data=df, ax=axs[0])\n",
    "axs[0].set_title('Boxplot com Outliers')\n",
    "axs[0].set_ylabel('DY (Dividend Yield)')\n",
    "\n",
    "# sem outliers\n",
    "sns.boxplot(x='dy', data=df, showfliers=False, ax=axs[1])\n",
    "axs[1].set_title('Boxplot sem Outliers')\n",
    "axs[1].set_ylabel('DY (Dividend Yield)')\n",
    "\n",
    "plt.tight_layout()\n",
    "plt.show()"
   ]
  },
  {
   "cell_type": "code",
   "execution_count": 76,
   "id": "2f1f70e1",
   "metadata": {},
   "outputs": [],
   "source": [
    "df.to_csv('dados/lista-de-fiis_v2',index=False)"
   ]
  }
 ],
 "metadata": {
  "kernelspec": {
   "display_name": "Python 3 (ipykernel)",
   "language": "python",
   "name": "python3"
  },
  "language_info": {
   "codemirror_mode": {
    "name": "ipython",
    "version": 3
   },
   "file_extension": ".py",
   "mimetype": "text/x-python",
   "name": "python",
   "nbconvert_exporter": "python",
   "pygments_lexer": "ipython3",
   "version": "3.11.5"
  }
 },
 "nbformat": 4,
 "nbformat_minor": 5
}
