{
 "cells": [
  {
   "cell_type": "markdown",
   "id": "1045d820",
   "metadata": {},
   "source": [
    "## **Carregando dados**"
   ]
  },
  {
   "cell_type": "code",
   "execution_count": 1,
   "id": "51331779",
   "metadata": {},
   "outputs": [],
   "source": [
    "import pandas as pd\n",
    "\n",
    "df = pd.read_csv('dados/dados.csv')"
   ]
  },
  {
   "cell_type": "markdown",
   "id": "f6cc260c",
   "metadata": {},
   "source": [
    "## **Primeiras linhas**"
   ]
  },
  {
   "cell_type": "code",
   "execution_count": 2,
   "id": "db22e203",
   "metadata": {},
   "outputs": [
    {
     "data": {
      "text/html": [
       "<div>\n",
       "<style scoped>\n",
       "    .dataframe tbody tr th:only-of-type {\n",
       "        vertical-align: middle;\n",
       "    }\n",
       "\n",
       "    .dataframe tbody tr th {\n",
       "        vertical-align: top;\n",
       "    }\n",
       "\n",
       "    .dataframe thead th {\n",
       "        text-align: right;\n",
       "    }\n",
       "</style>\n",
       "<table border=\"1\" class=\"dataframe\">\n",
       "  <thead>\n",
       "    <tr style=\"text-align: right;\">\n",
       "      <th></th>\n",
       "      <th>Ticker</th>\n",
       "      <th>DY</th>\n",
       "      <th>Nome</th>\n",
       "      <th>Categoria</th>\n",
       "    </tr>\n",
       "  </thead>\n",
       "  <tbody>\n",
       "    <tr>\n",
       "      <th>0</th>\n",
       "      <td>AAGR11</td>\n",
       "      <td>-</td>\n",
       "      <td>ASSET BANK AGRONEGÓCIOS FIAGRO IMOBILIARIO</td>\n",
       "      <td>Fiagro:</td>\n",
       "    </tr>\n",
       "    <tr>\n",
       "      <th>1</th>\n",
       "      <td>AAZQ11</td>\n",
       "      <td>16,45</td>\n",
       "      <td>NaN</td>\n",
       "      <td>Fiagro: Fiagro</td>\n",
       "    </tr>\n",
       "    <tr>\n",
       "      <th>2</th>\n",
       "      <td>ABCP11</td>\n",
       "      <td>8,62</td>\n",
       "      <td>Grand Plaza Shopping</td>\n",
       "      <td>Tijolo: Shoppings</td>\n",
       "    </tr>\n",
       "    <tr>\n",
       "      <th>3</th>\n",
       "      <td>AFCR11</td>\n",
       "      <td>-</td>\n",
       "      <td>NaN</td>\n",
       "      <td>Outros: Indefinido</td>\n",
       "    </tr>\n",
       "    <tr>\n",
       "      <th>4</th>\n",
       "      <td>AFHI11</td>\n",
       "      <td>12,89</td>\n",
       "      <td>AF INVEST CRI</td>\n",
       "      <td>Papel: Papéis</td>\n",
       "    </tr>\n",
       "  </tbody>\n",
       "</table>\n",
       "</div>"
      ],
      "text/plain": [
       "   Ticker     DY                                        Nome  \\\n",
       "0  AAGR11      -  ASSET BANK AGRONEGÓCIOS FIAGRO IMOBILIARIO   \n",
       "1  AAZQ11  16,45                                         NaN   \n",
       "2  ABCP11   8,62                        Grand Plaza Shopping   \n",
       "3  AFCR11      -                                         NaN   \n",
       "4  AFHI11  12,89                               AF INVEST CRI   \n",
       "\n",
       "            Categoria  \n",
       "0            Fiagro:   \n",
       "1      Fiagro: Fiagro  \n",
       "2   Tijolo: Shoppings  \n",
       "3  Outros: Indefinido  \n",
       "4       Papel: Papéis  "
      ]
     },
     "execution_count": 2,
     "metadata": {},
     "output_type": "execute_result"
    }
   ],
   "source": [
    "df.head()"
   ]
  },
  {
   "cell_type": "markdown",
   "id": "7284f927",
   "metadata": {},
   "source": [
    "## **Resumo**"
   ]
  },
  {
   "cell_type": "code",
   "execution_count": 3,
   "id": "d6c7bebe",
   "metadata": {},
   "outputs": [
    {
     "data": {
      "text/html": [
       "<div>\n",
       "<style scoped>\n",
       "    .dataframe tbody tr th:only-of-type {\n",
       "        vertical-align: middle;\n",
       "    }\n",
       "\n",
       "    .dataframe tbody tr th {\n",
       "        vertical-align: top;\n",
       "    }\n",
       "\n",
       "    .dataframe thead th {\n",
       "        text-align: right;\n",
       "    }\n",
       "</style>\n",
       "<table border=\"1\" class=\"dataframe\">\n",
       "  <thead>\n",
       "    <tr style=\"text-align: right;\">\n",
       "      <th></th>\n",
       "      <th>Ticker</th>\n",
       "      <th>DY</th>\n",
       "      <th>Nome</th>\n",
       "      <th>Categoria</th>\n",
       "    </tr>\n",
       "  </thead>\n",
       "  <tbody>\n",
       "    <tr>\n",
       "      <th>count</th>\n",
       "      <td>581</td>\n",
       "      <td>581</td>\n",
       "      <td>444</td>\n",
       "      <td>581</td>\n",
       "    </tr>\n",
       "    <tr>\n",
       "      <th>unique</th>\n",
       "      <td>581</td>\n",
       "      <td>349</td>\n",
       "      <td>443</td>\n",
       "      <td>27</td>\n",
       "    </tr>\n",
       "    <tr>\n",
       "      <th>top</th>\n",
       "      <td>AAGR11</td>\n",
       "      <td>-</td>\n",
       "      <td>Lateres</td>\n",
       "      <td>Fundo Misto: Indefinido</td>\n",
       "    </tr>\n",
       "    <tr>\n",
       "      <th>freq</th>\n",
       "      <td>1</td>\n",
       "      <td>188</td>\n",
       "      <td>2</td>\n",
       "      <td>86</td>\n",
       "    </tr>\n",
       "  </tbody>\n",
       "</table>\n",
       "</div>"
      ],
      "text/plain": [
       "        Ticker   DY     Nome                Categoria\n",
       "count      581  581      444                      581\n",
       "unique     581  349      443                       27\n",
       "top     AAGR11    -  Lateres  Fundo Misto: Indefinido\n",
       "freq         1  188        2                       86"
      ]
     },
     "execution_count": 3,
     "metadata": {},
     "output_type": "execute_result"
    }
   ],
   "source": [
    "df.describe()"
   ]
  },
  {
   "cell_type": "markdown",
   "id": "2cf56b23",
   "metadata": {},
   "source": [
    "## **Informações do dataset**"
   ]
  },
  {
   "cell_type": "code",
   "execution_count": 4,
   "id": "0293b0ff",
   "metadata": {},
   "outputs": [
    {
     "name": "stdout",
     "output_type": "stream",
     "text": [
      "<class 'pandas.core.frame.DataFrame'>\n",
      "RangeIndex: 581 entries, 0 to 580\n",
      "Data columns (total 4 columns):\n",
      " #   Column     Non-Null Count  Dtype \n",
      "---  ------     --------------  ----- \n",
      " 0   Ticker     581 non-null    object\n",
      " 1   DY         581 non-null    object\n",
      " 2   Nome       444 non-null    object\n",
      " 3   Categoria  581 non-null    object\n",
      "dtypes: object(4)\n",
      "memory usage: 18.3+ KB\n"
     ]
    }
   ],
   "source": [
    "df.info()"
   ]
  },
  {
   "cell_type": "markdown",
   "id": "8c2945fa",
   "metadata": {},
   "source": [
    "## **Dados ausentes**"
   ]
  },
  {
   "cell_type": "markdown",
   "id": "af43dce5",
   "metadata": {},
   "source": [
    "*Ticker*"
   ]
  },
  {
   "cell_type": "code",
   "execution_count": 25,
   "id": "62e5a434",
   "metadata": {},
   "outputs": [
    {
     "data": {
      "text/plain": [
       "True"
      ]
     },
     "execution_count": 25,
     "metadata": {},
     "output_type": "execute_result"
    }
   ],
   "source": [
    "df.Ticker.is_unique"
   ]
  },
  {
   "cell_type": "code",
   "execution_count": 34,
   "id": "0e34d693",
   "metadata": {},
   "outputs": [
    {
     "data": {
      "text/plain": [
       "0"
      ]
     },
     "execution_count": 34,
     "metadata": {},
     "output_type": "execute_result"
    }
   ],
   "source": [
    "df.Ticker.isna().sum()"
   ]
  },
  {
   "cell_type": "markdown",
   "id": "34a165db",
   "metadata": {},
   "source": [
    "*Nome*"
   ]
  },
  {
   "cell_type": "code",
   "execution_count": 27,
   "id": "d9907cf3",
   "metadata": {},
   "outputs": [
    {
     "data": {
      "text/plain": [
       "False"
      ]
     },
     "execution_count": 27,
     "metadata": {},
     "output_type": "execute_result"
    }
   ],
   "source": [
    "df.Nome.is_unique"
   ]
  },
  {
   "cell_type": "code",
   "execution_count": 33,
   "id": "4f82b498",
   "metadata": {},
   "outputs": [
    {
     "data": {
      "text/plain": [
       "137"
      ]
     },
     "execution_count": 33,
     "metadata": {},
     "output_type": "execute_result"
    }
   ],
   "source": [
    "df.Nome.isna().sum()"
   ]
  },
  {
   "cell_type": "code",
   "execution_count": 20,
   "id": "3ca420d8",
   "metadata": {},
   "outputs": [
    {
     "data": {
      "text/plain": [
       "137"
      ]
     },
     "execution_count": 20,
     "metadata": {},
     "output_type": "execute_result"
    }
   ],
   "source": [
    "df.Nome.duplicated().sum()"
   ]
  },
  {
   "cell_type": "markdown",
   "id": "dd1eaf69",
   "metadata": {},
   "source": [
    "## **Campo - Categoria**"
   ]
  },
  {
   "cell_type": "code",
   "execution_count": 5,
   "id": "60c1e3a6",
   "metadata": {},
   "outputs": [
    {
     "data": {
      "text/plain": [
       "array(['Fiagro: ', 'Fiagro: Fiagro', 'Tijolo: Shoppings',\n",
       "       'Outros: Indefinido', 'Papel: Papéis',\n",
       "       'Tijolo: Lajes Corporativas', 'Sem categoria: ',\n",
       "       'Papel: Fundo de Fundos', 'Fundo Misto: Misto',\n",
       "       'Tijolo: Imóveis Residenciais', 'Fundos Imobiliários: ',\n",
       "       'Tijolo: Imóveis Industriais e Logísticos',\n",
       "       'Fundo Misto: Indefinido', 'Tijolo: Imóveis Comerciais - Outros',\n",
       "       'Tijolo: Agências de Bancos', 'Tijolo: Hotéis',\n",
       "       'Fundo Misto: Fundo de Desenvolvimento', 'Papel: ',\n",
       "       'Tijolo: Varejo', 'Tijolo: Fundo de Desenvolvimento',\n",
       "       'Tijolo: Educacional', 'Tijolo: Hospitalar', 'Fundo Misto: ',\n",
       "       'Tijolo: ', 'Outros: Fundo de Desenvolvimento',\n",
       "       'Fundos Imobiliários: Fundos Imobiliários', 'Fundo Misto: Papéis'],\n",
       "      dtype=object)"
      ]
     },
     "execution_count": 5,
     "metadata": {},
     "output_type": "execute_result"
    }
   ],
   "source": [
    "df.Categoria.unique()"
   ]
  },
  {
   "cell_type": "code",
   "execution_count": 6,
   "id": "90fd5ad5",
   "metadata": {},
   "outputs": [
    {
     "data": {
      "text/plain": [
       "Categoria\n",
       "Fundo Misto: Indefinido                     86\n",
       "Papel: Papéis                               80\n",
       "Tijolo: Lajes Corporativas                  64\n",
       "Tijolo: Imóveis Industriais e Logísticos    45\n",
       "Fundo Misto: Fundo de Desenvolvimento       43\n",
       "Papel: Fundo de Fundos                      36\n",
       "Sem categoria:                              34\n",
       "Outros: Indefinido                          33\n",
       "Tijolo: Shoppings                           32\n",
       "Fundos Imobiliários:                        25\n",
       "Fiagro: Fiagro                              23\n",
       "Fundo Misto: Misto                          20\n",
       "Fiagro:                                     16\n",
       "Tijolo: Hospitalar                           6\n",
       "Tijolo: Varejo                               6\n",
       "Tijolo: Educacional                          5\n",
       "Tijolo: Imóveis Comerciais - Outros          5\n",
       "Tijolo: Imóveis Residenciais                 5\n",
       "Tijolo: Hotéis                               4\n",
       "Tijolo: Agências de Bancos                   4\n",
       "Tijolo: Fundo de Desenvolvimento             3\n",
       "Papel:                                       1\n",
       "Fundo Misto:                                 1\n",
       "Tijolo:                                      1\n",
       "Outros: Fundo de Desenvolvimento             1\n",
       "Fundos Imobiliários: Fundos Imobiliários     1\n",
       "Fundo Misto: Papéis                          1\n",
       "Name: count, dtype: int64"
      ]
     },
     "execution_count": 6,
     "metadata": {},
     "output_type": "execute_result"
    }
   ],
   "source": [
    "df.Categoria.value_counts()"
   ]
  },
  {
   "cell_type": "code",
   "execution_count": 7,
   "id": "937d6c73",
   "metadata": {},
   "outputs": [
    {
     "data": {
      "text/plain": [
       "<Axes: ylabel='Categoria'>"
      ]
     },
     "execution_count": 7,
     "metadata": {},
     "output_type": "execute_result"
    },
    {
     "data": {
      "image/png": "[encoded data removed]",
      "text/plain": [
       "<Figure size 640x480 with 1 Axes>"
      ]
     },
     "metadata": {},
     "output_type": "display_data"
    }
   ],
   "source": [
    "df.Categoria.value_counts().plot(kind='barh')"
   ]
  },
  {
   "cell_type": "markdown",
   "id": "f5ebcf93",
   "metadata": {},
   "source": [
    "## Campo - Nome"
   ]
  },
  {
   "cell_type": "code",
   "execution_count": 35,
   "id": "a6236338",
   "metadata": {},
   "outputs": [
    {
     "data": {
      "text/html": [
       "<div>\n",
       "<style scoped>\n",
       "    .dataframe tbody tr th:only-of-type {\n",
       "        vertical-align: middle;\n",
       "    }\n",
       "\n",
       "    .dataframe tbody tr th {\n",
       "        vertical-align: top;\n",
       "    }\n",
       "\n",
       "    .dataframe thead th {\n",
       "        text-align: right;\n",
       "    }\n",
       "</style>\n",
       "<table border=\"1\" class=\"dataframe\">\n",
       "  <thead>\n",
       "    <tr style=\"text-align: right;\">\n",
       "      <th></th>\n",
       "      <th>Ticker</th>\n",
       "      <th>Nome</th>\n",
       "    </tr>\n",
       "  </thead>\n",
       "  <tbody>\n",
       "    <tr>\n",
       "      <th>1</th>\n",
       "      <td>AAZQ11</td>\n",
       "      <td>NaN</td>\n",
       "    </tr>\n",
       "    <tr>\n",
       "      <th>3</th>\n",
       "      <td>AFCR11</td>\n",
       "      <td>NaN</td>\n",
       "    </tr>\n",
       "    <tr>\n",
       "      <th>5</th>\n",
       "      <td>AFOF11</td>\n",
       "      <td>NaN</td>\n",
       "    </tr>\n",
       "    <tr>\n",
       "      <th>6</th>\n",
       "      <td>AGRX11</td>\n",
       "      <td>NaN</td>\n",
       "    </tr>\n",
       "    <tr>\n",
       "      <th>8</th>\n",
       "      <td>AJFI11</td>\n",
       "      <td>NaN</td>\n",
       "    </tr>\n",
       "  </tbody>\n",
       "</table>\n",
       "</div>"
      ],
      "text/plain": [
       "   Ticker Nome\n",
       "1  AAZQ11  NaN\n",
       "3  AFCR11  NaN\n",
       "5  AFOF11  NaN\n",
       "6  AGRX11  NaN\n",
       "8  AJFI11  NaN"
      ]
     },
     "execution_count": 35,
     "metadata": {},
     "output_type": "execute_result"
    }
   ],
   "source": [
    "df[df.Nome.isna()][['Ticker','Nome']].head()"
   ]
  },
  {
   "cell_type": "code",
   "execution_count": 31,
   "id": "d700aec3",
   "metadata": {},
   "outputs": [
    {
     "data": {
      "text/plain": [
       "137"
      ]
     },
     "execution_count": 31,
     "metadata": {},
     "output_type": "execute_result"
    }
   ],
   "source": [
    "df.Nome.isna().sum()"
   ]
  },
  {
   "cell_type": "code",
   "execution_count": 51,
   "id": "9fc1d51a",
   "metadata": {},
   "outputs": [
    {
     "data": {
      "text/plain": [
       "Nome\n",
       "Lateres                                           2\n",
       "ASSET BANK AGRONEGÓCIOS FIAGRO IMOBILIARIO        1\n",
       "PANORAMA PROPERTIES FDO. INVEST. IMOB.            1\n",
       "QUATA IMOB RECEBÍVEIS IMOB                        1\n",
       "QUASAR CRÉDITO IMOBILIÁRIO                        1\n",
       "                                                 ..\n",
       "GUARDIAN LOGISTICA                                1\n",
       "051 AGRO FAZIII FDO INV NAS CAD PROD AGRO         1\n",
       "Via Parque Shopping                               1\n",
       "Oportunity                                        1\n",
       "ZION CAPITAL FUNDO DE INVESTIMENTO IMOBILIÁRIO    1\n",
       "Name: count, Length: 443, dtype: int64"
      ]
     },
     "execution_count": 51,
     "metadata": {},
     "output_type": "execute_result"
    }
   ],
   "source": [
    "df.Nome.value_counts()"
   ]
  },
  {
   "cell_type": "markdown",
   "id": "4337ba50",
   "metadata": {},
   "source": [
    "## Relatório\n",
    "\n",
    "- DY - Transformar valores para float.\n",
    "- Nome - Tratar valores ausentes.\n",
    "- Categoria - Padronizar valores."
   ]
  }
 ],
 "metadata": {
  "kernelspec": {
   "display_name": "Python 3 (ipykernel)",
   "language": "python",
   "name": "python3"
  },
  "language_info": {
   "codemirror_mode": {
    "name": "ipython",
    "version": 3
   },
   "file_extension": ".py",
   "mimetype": "text/x-python",
   "name": "python",
   "nbconvert_exporter": "python",
   "pygments_lexer": "ipython3",
   "version": "3.11.5"
  }
 },
 "nbformat": 4,
 "nbformat_minor": 5
}
