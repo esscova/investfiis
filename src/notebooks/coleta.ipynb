{
 "cells": [
  {
   "cell_type": "markdown",
   "id": "6dc0502a",
   "metadata": {},
   "source": [
    "**Requests**"
   ]
  },
  {
   "cell_type": "code",
   "execution_count": 1,
   "id": "206d75a7",
   "metadata": {},
   "outputs": [],
   "source": [
    "import requests\n",
    "\n",
    "URL = 'https://fiis.com.br/lista-de-fundos-imobiliarios/'\n",
    "\n",
    "HEADER = {\n",
    "    \"User-Agent\":\"Mozilla/5.0 (X11; Linux x86_64) AppleWebKit/537.36 (KHTML, like Gecko) Chrome/120.0.0.0 Safari/537.36\"\n",
    "}\n",
    "\n",
    "page = requests.get(URL, headers=HEADER)"
   ]
  },
  {
   "cell_type": "markdown",
   "id": "84cc93cb",
   "metadata": {},
   "source": [
    "**BeautifulSoup**"
   ]
  },
  {
   "cell_type": "code",
   "execution_count": 2,
   "id": "9a07c1af",
   "metadata": {},
   "outputs": [],
   "source": [
    "from bs4 import BeautifulSoup as bs\n",
    "\n",
    "site = bs(page.content,'html.parser')\n",
    "\n",
    "divs = site.find_all('div',{\"class\":\"tickerBox\"})"
   ]
  },
  {
   "cell_type": "markdown",
   "id": "469831b4",
   "metadata": {},
   "source": [
    "**Armazenando dados em lista**"
   ]
  },
  {
   "cell_type": "code",
   "execution_count": 3,
   "id": "824255c7",
   "metadata": {},
   "outputs": [],
   "source": [
    "dados = [\n",
    "      {\n",
    "          \"Ticker\": div.find('div', {\"class\": \"tickerBox__title\"}).text,\n",
    "          \"DY\": div.find_all('div', {\"class\": \"tickerBox__info__box\"})[0].text,\n",
    "          \"Nome\":div.find('div',{\"class\":\"tickerBox__desc\"}).text,\n",
    "          \"Categoria\":div.find('span',{\"class\":\"tickerBox__type\"}).text\n",
    "      }\n",
    "      for div in divs\n",
    "  ]"
   ]
  },
  {
   "cell_type": "markdown",
   "id": "e133740f",
   "metadata": {},
   "source": [
    "**Persistindo dados**"
   ]
  },
  {
   "cell_type": "code",
   "execution_count": 4,
   "id": "389bc44c",
   "metadata": {},
   "outputs": [],
   "source": [
    "import pandas as pd\n",
    "\n",
    "df = pd.DataFrame(dados)"
   ]
  },
  {
   "cell_type": "code",
   "execution_count": 5,
   "id": "9b2c2cdd",
   "metadata": {},
   "outputs": [],
   "source": [
    "df.to_csv('dados/dados.csv', index=False)\n",
    "df.to_json('dados/dados.json', orient='records', indent=2)\n",
    "df.to_excel('dados/dados.xlsx', index=False)"
   ]
  }
 ],
 "metadata": {
  "kernelspec": {
   "display_name": "Python 3 (ipykernel)",
   "language": "python",
   "name": "python3"
  },
  "language_info": {
   "codemirror_mode": {
    "name": "ipython",
    "version": 3
   },
   "file_extension": ".py",
   "mimetype": "text/x-python",
   "name": "python",
   "nbconvert_exporter": "python",
   "pygments_lexer": "ipython3",
   "version": "3.11.5"
  }
 },
 "nbformat": 4,
 "nbformat_minor": 5
}
